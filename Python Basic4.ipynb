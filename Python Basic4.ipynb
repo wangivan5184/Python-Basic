{
 "cells": [
  {
   "cell_type": "markdown",
   "id": "2f101ece",
   "metadata": {},
   "source": [
    "# Class"
   ]
  },
  {
   "cell_type": "markdown",
   "id": "779fd229",
   "metadata": {},
   "source": [
    "Classes are extremely important in programming and they are not specific\n",
    "to Python, in fact, a lot of other programming languages do support\n",
    "the notion of classes. \n",
    "We use classes to define new types. For example, so far we have learned\n",
    "about the basic types in Python like numbers, strings, and booleans,\n",
    "these are the basic or simple tyoes in Python, we also learn about\n",
    "a couple of complex types like lists and dictionaries. While these types\n",
    "are extremely useful, they cannot alwyas be used to model complex concepts."
   ]
  },
  {
   "cell_type": "code",
   "execution_count": 7,
   "id": "9676dd88",
   "metadata": {},
   "outputs": [
    {
     "name": "stdout",
     "output_type": "stream",
     "text": [
      "10\n",
      "draw\n",
      "2\n"
     ]
    }
   ],
   "source": [
    "# We can use classes to define new types to model real concepts. Now in\n",
    "# new model, we will learn how to define a new type called point, and \n",
    "# this new type is going to have methods for working with points.\n",
    "\n",
    "# We are going to create a new type called point, this point is going to\n",
    "# have meta like move, draw,get,distance from another point, these\n",
    "# operations that we can perform on points.\n",
    "\n",
    "# We capitalized the first letter here, this is what we call a pascal naming\n",
    "# convention. So the convention we used for naming our classes is different\n",
    "# from the convention we use for naming our variables and functions. For \n",
    "# varaibles and functions we always use lower case letters and we\n",
    "# separate multiple words using an underscore. But when naming classes,\n",
    "# we don't use an underscore to separate multiple words, instead we\n",
    "# capitalize the first letter of every word.\n",
    "\n",
    "\n",
    "class Point:\n",
    "    def move(self):\n",
    "        print(\"move\")\n",
    "    def draw(self):\n",
    "        print(\"draw\") \n",
    "        \n",
    "# So with class we define a new type, with this new type, we can create\n",
    "# new obejects, so an object is an instance of a class, a class simply\n",
    "# defines the blueprint or the templates for creating objects.\n",
    "# And objects are the actual instances based on the blueprint. \n",
    "\n",
    "point1 = Point()\n",
    "point1.x = 10\n",
    "point1.y = 10\n",
    "print(point1.x)\n",
    "point1.draw()\n",
    "\n",
    "point2 = Point()\n",
    "point2.x = 2\n",
    "print(point2.x)\n",
    "\n"
   ]
  },
  {
   "cell_type": "markdown",
   "id": "f627330f",
   "metadata": {},
   "source": [
    "# Constructors"
   ]
  },
  {
   "cell_type": "code",
   "execution_count": 10,
   "id": "fb6644e4",
   "metadata": {},
   "outputs": [
    {
     "name": "stdout",
     "output_type": "stream",
     "text": [
      "10\n"
     ]
    }
   ],
   "source": [
    "# A constructor is a fucntion that gets called at the time of creating an\n",
    "# object.\n",
    "# We need to add a special method in this class called constructor.\n",
    "# On the top I defined a new fucntion, look at the name of this function,\n",
    "# double underscore init, double underscore. So init is short for\n",
    "# initiliazed, and this is the function or the method that gets called\n",
    "# when we create a new point object.\n",
    "\n",
    "# This self that you see here is a reference to the current object.\n",
    "class Point:\n",
    "    def __init__(self,x,y):\n",
    "        self.x = x\n",
    "        self.y = y\n",
    "        \n",
    "        \n",
    "    def move(self):\n",
    "        print(\"move\")\n",
    "    def draw(self):\n",
    "        print(\"draw\") \n",
    "\n",
    "point = Point(10,20)\n",
    "print(point.x)\n",
    "        "
   ]
  },
  {
   "cell_type": "code",
   "execution_count": 21,
   "id": "5b3ebd64",
   "metadata": {},
   "outputs": [
    {
     "name": "stdout",
     "output_type": "stream",
     "text": [
      "Ivan Wang\n",
      "Hi, I am Ivan Wang\n",
      "Ryan Chan\n",
      "Hi, I am Ryan Chan\n"
     ]
    }
   ],
   "source": [
    "# Exercise:\n",
    "'''\n",
    "class:Person\n",
    "    -attribute:name\n",
    "    -method:talk()\n",
    "\n",
    "You can tackle it in probably a couple of minutes\n",
    "'''\n",
    "class Person:\n",
    "    def __init__(self, name):\n",
    "        self.name = name\n",
    "       \n",
    "        \n",
    "    def talk(self):\n",
    "        print(f\"Hi, I am {self.name}\")\n",
    "\n",
    "person1 = Person(\"Ivan Wang\")\n",
    "print(person1.name)\n",
    "person1.talk()\n",
    "\n",
    "\n",
    "person2 = Person(\"Ryan Chan\")\n",
    "print(person2.name)\n",
    "person2.talk()\n"
   ]
  },
  {
   "cell_type": "markdown",
   "id": "31a91615",
   "metadata": {},
   "source": [
    "# Inheritance"
   ]
  },
  {
   "cell_type": "code",
   "execution_count": 25,
   "id": "47afe54e",
   "metadata": {},
   "outputs": [
    {
     "name": "stdout",
     "output_type": "stream",
     "text": [
      "walk\n",
      "walk\n",
      "annoying\n"
     ]
    }
   ],
   "source": [
    "# Inheritance is a mechanism for using code and once again it's not\n",
    "# limited to Python, most language that support classes also support\n",
    "# inheritance.\n",
    "\n",
    "class Mammal:\n",
    "    def walk(self):\n",
    "        print(\"walk\")\n",
    "\n",
    "# So with this Mammal in parenthesis, the Dog class will inheritance\n",
    "# all the methods in the mammal class.\n",
    "\n",
    "# Python doesn't like empty class, we add pass here.\n",
    "# We are telling Python: Hey, pass the line, don't worry about it.\n",
    "class Dog(Mammal):\n",
    "    def bark(self):\n",
    "        print(\"bark\")\n",
    "   \n",
    "        \n",
    "class Cat(Mammal):\n",
    "    def be_annoying(self):\n",
    "        print(\"annoying\")\n",
    "    \n",
    "    \n",
    "\n",
    "dog1 = Dog()\n",
    "dog1.walk()\n",
    "\n",
    "cat1  = Cat()\n",
    "cat1.walk()\n",
    "cat1.be_annoying()\n",
    "\n"
   ]
  },
  {
   "cell_type": "markdown",
   "id": "200ca9d6",
   "metadata": {},
   "source": [
    "# Modules"
   ]
  },
  {
   "cell_type": "code",
   "execution_count": null,
   "id": "5b230342",
   "metadata": {},
   "outputs": [],
   "source": [
    "# A module in python is basically a file with some Python code.\n",
    "# And we use module to organize our code into files.\n",
    "\n",
    "# switch to Pycharm\n",
    "\n",
    "def lbs_to_kg(weight):\n",
    "    return weight*0.45\n",
    "\n",
    "def kg_to_lbs(weight):\n",
    "    return weight/0.45\n"
   ]
  },
  {
   "cell_type": "markdown",
   "id": "defeb33e",
   "metadata": {},
   "source": [
    "# Packages"
   ]
  },
  {
   "cell_type": "code",
   "execution_count": null,
   "id": "21c542e7",
   "metadata": {},
   "outputs": [],
   "source": [
    "# Switch to Pycharm"
   ]
  },
  {
   "cell_type": "markdown",
   "id": "ab662b56",
   "metadata": {},
   "source": [
    "# Generating Random Values"
   ]
  },
  {
   "cell_type": "code",
   "execution_count": 27,
   "id": "722cb77c",
   "metadata": {},
   "outputs": [
    {
     "name": "stdout",
     "output_type": "stream",
     "text": [
      "0.4417754479585728\n",
      "0.9499352351946311\n",
      "0.8499943978859901\n"
     ]
    }
   ],
   "source": [
    "# How to use one of built module for generating random values\n",
    "import random\n",
    "for i in range(3):\n",
    "    print(random.random())"
   ]
  },
  {
   "cell_type": "code",
   "execution_count": 28,
   "id": "738c62c9",
   "metadata": {},
   "outputs": [
    {
     "name": "stdout",
     "output_type": "stream",
     "text": [
      "13\n",
      "10\n",
      "12\n"
     ]
    }
   ],
   "source": [
    "for i in range(3):\n",
    "    print(random.randint(10,20))"
   ]
  },
  {
   "cell_type": "code",
   "execution_count": 31,
   "id": "d5da63ca",
   "metadata": {},
   "outputs": [
    {
     "name": "stdout",
     "output_type": "stream",
     "text": [
      "Bob\n"
     ]
    }
   ],
   "source": [
    "members = ['John','Mary','Bob','Mosh']\n",
    "leader = random.choice(members)\n",
    "print(leader)"
   ]
  },
  {
   "cell_type": "code",
   "execution_count": 35,
   "id": "5f4eaec3",
   "metadata": {},
   "outputs": [
    {
     "name": "stdout",
     "output_type": "stream",
     "text": [
      "(6, 1)\n"
     ]
    }
   ],
   "source": [
    "# Exercise:\n",
    "# I want to you to define a class called dice.\n",
    "# In this class we're going to have a method called roll.\n",
    "# So every time I call this method, we get a tuple, a tuple is a list of\n",
    "# values but that value cannot be changed, you cannot add a new item to it, \n",
    "# we cannot remove it. So itls like a read only list. So every time, we\n",
    "# call the roll method, we should get the tuple of two random values.\n",
    "\n",
    "import random\n",
    "class Dice:\n",
    "    def roll(self):\n",
    "        first = random.randint(1,6)\n",
    "        second = random.randint(1,6)\n",
    "        # In Pyhton when you want to return a tuple from a function,\n",
    "        # you don't need to add this parenthesis. Python will automatically\n",
    "        # interpret this as a tuple.\n",
    "        return (first,second) \n",
    "\n",
    "dice = Dice()\n",
    "print(dice.roll())"
   ]
  },
  {
   "cell_type": "markdown",
   "id": "17d88b87",
   "metadata": {},
   "source": [
    "# Working with Directions\n"
   ]
  },
  {
   "cell_type": "code",
   "execution_count": null,
   "id": "5564a969",
   "metadata": {},
   "outputs": [],
   "source": [
    "# switch to Pycharm"
   ]
  },
  {
   "cell_type": "raw",
   "id": "d0752da8",
   "metadata": {},
   "source": []
  },
  {
   "cell_type": "markdown",
   "id": "b6688fa5",
   "metadata": {},
   "source": [
    "# Pypo and Pip"
   ]
  },
  {
   "cell_type": "code",
   "execution_count": null,
   "id": "e6adb0dd",
   "metadata": {},
   "outputs": [],
   "source": []
  },
  {
   "cell_type": "code",
   "execution_count": null,
   "id": "0da84c69",
   "metadata": {},
   "outputs": [],
   "source": []
  }
 ],
 "metadata": {
  "kernelspec": {
   "display_name": "Python 3 (ipykernel)",
   "language": "python",
   "name": "python3"
  },
  "language_info": {
   "codemirror_mode": {
    "name": "ipython",
    "version": 3
   },
   "file_extension": ".py",
   "mimetype": "text/x-python",
   "name": "python",
   "nbconvert_exporter": "python",
   "pygments_lexer": "ipython3",
   "version": "3.9.6"
  }
 },
 "nbformat": 4,
 "nbformat_minor": 5
}
