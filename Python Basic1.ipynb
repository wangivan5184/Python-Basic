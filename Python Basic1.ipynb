{
 "cells": [
  {
   "cell_type": "markdown",
   "id": "a27ddc08",
   "metadata": {},
   "source": [
    "# Type Conversion\n"
   ]
  },
  {
   "cell_type": "code",
   "execution_count": 3,
   "id": "bd5eb5bc",
   "metadata": {},
   "outputs": [
    {
     "name": "stdout",
     "output_type": "stream",
     "text": [
      "Birth year: 1992\n",
      "<class 'str'>\n",
      "<class 'int'>\n",
      "30\n"
     ]
    }
   ],
   "source": [
    "# Example\n",
    "birth_year = input ('Birth year: ')  # Whenever you use input function, you will always get string. \n",
    "# If you need numerical values, you always need to convert it to int or float numbers.\n",
    "print(type(birth_year))       # type() python built in function\n",
    "age = 2022 - int(birth_year) # int()function helps convert string to int\n",
    "print(type(age))\n",
    "print(age)"
   ]
  },
  {
   "cell_type": "code",
   "execution_count": 12,
   "id": "d846f07b",
   "metadata": {},
   "outputs": [
    {
     "name": "stdout",
     "output_type": "stream",
     "text": [
      "What is your weight(lbs): 115\n",
      "51.75 kg\n"
     ]
    }
   ],
   "source": [
    "# Exercise\n",
    "# Ask a user their weight (in pounds), convert it to kilograms and print on the ternimal.\n",
    "weight_lbs = input ('What is your weight(lbs): ')\n",
    "weight_kg = int(weight_lbs)*0.45\n",
    "print(str(weight_kg)+' kg')"
   ]
  },
  {
   "cell_type": "markdown",
   "id": "483468a0",
   "metadata": {},
   "source": [
    "# String"
   ]
  },
  {
   "cell_type": "code",
   "execution_count": 1,
   "id": "8050f781",
   "metadata": {},
   "outputs": [
    {
     "name": "stdout",
     "output_type": "stream",
     "text": [
      "Python's Course for Begineers\n"
     ]
    }
   ],
   "source": [
    "# Example\n",
    "# Use double quotes to avoid apostrophe error\n",
    "course = \"Python's Course for Begineers\"\n",
    "print(course)"
   ]
  },
  {
   "cell_type": "code",
   "execution_count": 2,
   "id": "1c32ca2f",
   "metadata": {},
   "outputs": [
    {
     "name": "stdout",
     "output_type": "stream",
     "text": [
      "Python for \"Beginners\"\n"
     ]
    }
   ],
   "source": [
    "# Use apostrophe to avoid double quotes error\n",
    "course ='Python for \"Beginners\"'\n",
    "print(course)"
   ]
  },
  {
   "cell_type": "code",
   "execution_count": 3,
   "id": "1c00a0c4",
   "metadata": {},
   "outputs": [
    {
     "name": "stdout",
     "output_type": "stream",
     "text": [
      "\n",
      "Hi Yan,\n",
      "Here is our first email to you.\n",
      "\n",
      "Thank you,\n",
      "The support team\n",
      "\n",
      "\n"
     ]
    }
   ],
   "source": [
    "# Define a string in multiple length: tripe quotes\n",
    "course = '''\n",
    "Hi Yan,\n",
    "Here is our first email to you.\n",
    "\n",
    "Thank you,\n",
    "The support team\n",
    "\n",
    "'''\n",
    "print(course)\n"
   ]
  },
  {
   "cell_type": "code",
   "execution_count": 4,
   "id": "d6571c8f",
   "metadata": {},
   "outputs": [
    {
     "name": "stdout",
     "output_type": "stream",
     "text": [
      "P\n"
     ]
    }
   ],
   "source": [
    "# Use square brackets to get a character and a given index in this string\n",
    "course = 'Python for Beginners'\n",
    "         #0123\n",
    "print(course[0])"
   ]
  },
  {
   "cell_type": "code",
   "execution_count": 5,
   "id": "b641f7ff",
   "metadata": {},
   "outputs": [
    {
     "name": "stdout",
     "output_type": "stream",
     "text": [
      "s\n"
     ]
    }
   ],
   "source": [
    "# Use negative index, this is one of the features in python\n",
    "print(course[-1])"
   ]
  },
  {
   "cell_type": "code",
   "execution_count": 6,
   "id": "fa28474b",
   "metadata": {},
   "outputs": [
    {
     "name": "stdout",
     "output_type": "stream",
     "text": [
      "r\n"
     ]
    }
   ],
   "source": [
    "print(course[-2]) # second character from the end"
   ]
  },
  {
   "cell_type": "code",
   "execution_count": 8,
   "id": "a20fe97d",
   "metadata": {},
   "outputs": [
    {
     "name": "stdout",
     "output_type": "stream",
     "text": [
      "Pyt\n"
     ]
    }
   ],
   "source": [
    "# Use a similar syntax to extract a few characters instead of 1 character\n",
    "print(course[0:3]) # will 0,1,2, not include 3"
   ]
  },
  {
   "cell_type": "code",
   "execution_count": 9,
   "id": "f092f164",
   "metadata": {},
   "outputs": [
    {
     "name": "stdout",
     "output_type": "stream",
     "text": [
      "Python for Beginners\n"
     ]
    }
   ],
   "source": [
    "print(course[0:]) # return from start to the end characters"
   ]
  },
  {
   "cell_type": "code",
   "execution_count": 11,
   "id": "dc8e793f",
   "metadata": {},
   "outputs": [
    {
     "name": "stdout",
     "output_type": "stream",
     "text": [
      "ython for Beginners\n"
     ]
    }
   ],
   "source": [
    "print(course[1:])"
   ]
  },
  {
   "cell_type": "code",
   "execution_count": 12,
   "id": "2dedfdf5",
   "metadata": {},
   "outputs": [
    {
     "name": "stdout",
     "output_type": "stream",
     "text": [
      "Pytho\n"
     ]
    }
   ],
   "source": [
    "print(course[:5])"
   ]
  },
  {
   "cell_type": "code",
   "execution_count": 15,
   "id": "dca14958",
   "metadata": {},
   "outputs": [
    {
     "name": "stdout",
     "output_type": "stream",
     "text": [
      "Python for Beginners\n"
     ]
    }
   ],
   "source": [
    "another = course[:] # copy \n",
    "print(another) "
   ]
  },
  {
   "cell_type": "code",
   "execution_count": 16,
   "id": "bde34f90",
   "metadata": {},
   "outputs": [
    {
     "name": "stdout",
     "output_type": "stream",
     "text": [
      "ennife\n"
     ]
    }
   ],
   "source": [
    "# Exercise \n",
    "name ='Jennifer'\n",
    "print(name[1:-1]) # will not return the end (-1 means the end character)"
   ]
  },
  {
   "cell_type": "markdown",
   "id": "ace92fab",
   "metadata": {},
   "source": [
    "# Formatted Strings"
   ]
  },
  {
   "cell_type": "code",
   "execution_count": 20,
   "id": "8b1bee65",
   "metadata": {},
   "outputs": [
    {
     "name": "stdout",
     "output_type": "stream",
     "text": [
      "Yan [Wang] is a coder\n"
     ]
    }
   ],
   "source": [
    "# Example\n",
    "# Formatted Strings are partically useful when we dynamically generate some text with variables\n",
    "first_name = 'Yan'\n",
    "last_name ='Wang'\n",
    "message = first_name + ' [' + last_name +'] is a coder' # this is hard to visualize\n",
    "print(message)\n",
    "# We want to print \"Yan [Wang] is a coder\"\n"
   ]
  },
  {
   "cell_type": "code",
   "execution_count": 21,
   "id": "6b1dd25b",
   "metadata": {},
   "outputs": [
    {
     "name": "stdout",
     "output_type": "stream",
     "text": [
      "Yan [Wang] is a coder\n"
     ]
    }
   ],
   "source": [
    "msg = f'{first_name} [{last_name}] is a coder'\n",
    "print(msg)"
   ]
  },
  {
   "cell_type": "markdown",
   "id": "9a94428d",
   "metadata": {},
   "source": [
    "# String Methods"
   ]
  },
  {
   "cell_type": "code",
   "execution_count": 22,
   "id": "e4c9f540",
   "metadata": {},
   "outputs": [
    {
     "name": "stdout",
     "output_type": "stream",
     "text": [
      "20\n"
     ]
    }
   ],
   "source": [
    "course = 'Python for Beginners'\n",
    "print(len(course)) # print(),len() are general purpose functions"
   ]
  },
  {
   "cell_type": "code",
   "execution_count": 23,
   "id": "6ab5d14b",
   "metadata": {},
   "outputs": [
    {
     "data": {
      "text/plain": [
       "'PYTHON FOR BEGINNERS'"
      ]
     },
     "execution_count": 23,
     "metadata": {},
     "output_type": "execute_result"
    }
   ],
   "source": [
    "course.upper() # upper() is specific string function, so we called string method"
   ]
  },
  {
   "cell_type": "code",
   "execution_count": 24,
   "id": "2a7b83f4",
   "metadata": {},
   "outputs": [
    {
     "data": {
      "text/plain": [
       "'python for beginners'"
      ]
     },
     "execution_count": 24,
     "metadata": {},
     "output_type": "execute_result"
    }
   ],
   "source": [
    "course.lower()"
   ]
  },
  {
   "cell_type": "code",
   "execution_count": 25,
   "id": "f7acc8de",
   "metadata": {},
   "outputs": [
    {
     "data": {
      "text/plain": [
       "0"
      ]
     },
     "execution_count": 25,
     "metadata": {},
     "output_type": "execute_result"
    }
   ],
   "source": [
    "course.find('P') # find() is sensitive for upper and lower function"
   ]
  },
  {
   "cell_type": "code",
   "execution_count": 27,
   "id": "d9a6e80c",
   "metadata": {},
   "outputs": [
    {
     "data": {
      "text/plain": [
       "4"
      ]
     },
     "execution_count": 27,
     "metadata": {},
     "output_type": "execute_result"
    }
   ],
   "source": [
    "course.find('o')"
   ]
  },
  {
   "cell_type": "code",
   "execution_count": 28,
   "id": "08a81744",
   "metadata": {},
   "outputs": [
    {
     "data": {
      "text/plain": [
       "11"
      ]
     },
     "execution_count": 28,
     "metadata": {},
     "output_type": "execute_result"
    }
   ],
   "source": [
    "course.find('Beginners') # it will return 11 becasue \"B\" index is 11"
   ]
  },
  {
   "cell_type": "code",
   "execution_count": 29,
   "id": "25df55d3",
   "metadata": {},
   "outputs": [
    {
     "data": {
      "text/plain": [
       "'Python for Absoutle Beginners'"
      ]
     },
     "execution_count": 29,
     "metadata": {},
     "output_type": "execute_result"
    }
   ],
   "source": [
    "# Method for replacing a character or a sequence of characters\n",
    "course.replace('Beginners','Absoutle Beginners')\n"
   ]
  },
  {
   "cell_type": "code",
   "execution_count": 30,
   "id": "574230ca",
   "metadata": {},
   "outputs": [
    {
     "data": {
      "text/plain": [
       "'jython for Beginners'"
      ]
     },
     "execution_count": 30,
     "metadata": {},
     "output_type": "execute_result"
    }
   ],
   "source": [
    "course.replace('P','j')"
   ]
  },
  {
   "cell_type": "code",
   "execution_count": 32,
   "id": "0b883b9e",
   "metadata": {},
   "outputs": [
    {
     "data": {
      "text/plain": [
       "True"
      ]
     },
     "execution_count": 32,
     "metadata": {},
     "output_type": "execute_result"
    }
   ],
   "source": [
    "# boolean expression\n",
    "'Python' in course"
   ]
  },
  {
   "cell_type": "code",
   "execution_count": 33,
   "id": "ba988577",
   "metadata": {},
   "outputs": [
    {
     "data": {
      "text/plain": [
       "False"
      ]
     },
     "execution_count": 33,
     "metadata": {},
     "output_type": "execute_result"
    }
   ],
   "source": [
    "'jython' in course"
   ]
  },
  {
   "cell_type": "code",
   "execution_count": 34,
   "id": "45c7106f",
   "metadata": {},
   "outputs": [
    {
     "data": {
      "text/plain": [
       "'Python For Beginners'"
      ]
     },
     "execution_count": 34,
     "metadata": {},
     "output_type": "execute_result"
    }
   ],
   "source": [
    "course.title()  #Make the first letter in each word upper case:"
   ]
  },
  {
   "cell_type": "markdown",
   "id": "48e5a809",
   "metadata": {},
   "source": [
    "# Arithmetic Operations"
   ]
  },
  {
   "cell_type": "code",
   "execution_count": 35,
   "id": "4ddec37b",
   "metadata": {},
   "outputs": [
    {
     "data": {
      "text/plain": [
       "3"
      ]
     },
     "execution_count": 35,
     "metadata": {},
     "output_type": "execute_result"
    }
   ],
   "source": [
    "10//3"
   ]
  },
  {
   "cell_type": "code",
   "execution_count": 36,
   "id": "66094eb2",
   "metadata": {},
   "outputs": [
    {
     "data": {
      "text/plain": [
       "1"
      ]
     },
     "execution_count": 36,
     "metadata": {},
     "output_type": "execute_result"
    }
   ],
   "source": [
    "10 % 3 # return the remainder of the division"
   ]
  },
  {
   "cell_type": "code",
   "execution_count": 37,
   "id": "71327177",
   "metadata": {},
   "outputs": [
    {
     "data": {
      "text/plain": [
       "1000"
      ]
     },
     "execution_count": 37,
     "metadata": {},
     "output_type": "execute_result"
    }
   ],
   "source": [
    "10 ** 3"
   ]
  },
  {
   "cell_type": "code",
   "execution_count": 41,
   "id": "f34b0396",
   "metadata": {},
   "outputs": [
    {
     "data": {
      "text/plain": [
       "13"
      ]
     },
     "execution_count": 41,
     "metadata": {},
     "output_type": "execute_result"
    }
   ],
   "source": [
    "x = 10\n",
    "x = x + 3\n",
    "x"
   ]
  },
  {
   "cell_type": "code",
   "execution_count": 42,
   "id": "14e93e41",
   "metadata": {},
   "outputs": [
    {
     "data": {
      "text/plain": [
       "16"
      ]
     },
     "execution_count": 42,
     "metadata": {},
     "output_type": "execute_result"
    }
   ],
   "source": [
    "x += 3\n",
    "x"
   ]
  },
  {
   "cell_type": "code",
   "execution_count": 43,
   "id": "b7fb5d9d",
   "metadata": {},
   "outputs": [
    {
     "data": {
      "text/plain": [
       "16"
      ]
     },
     "execution_count": 43,
     "metadata": {},
     "output_type": "execute_result"
    }
   ],
   "source": [
    "x = 10 + 3*2\n",
    "x"
   ]
  },
  {
   "cell_type": "code",
   "execution_count": 44,
   "id": "028ddc4a",
   "metadata": {},
   "outputs": [
    {
     "data": {
      "text/plain": [
       "22"
      ]
     },
     "execution_count": 44,
     "metadata": {},
     "output_type": "execute_result"
    }
   ],
   "source": [
    "x = 10 + 3 * 2 ** 2\n",
    "x"
   ]
  },
  {
   "cell_type": "markdown",
   "id": "73920dd8",
   "metadata": {},
   "source": [
    "# Math Function"
   ]
  },
  {
   "cell_type": "code",
   "execution_count": 45,
   "id": "e39c8f74",
   "metadata": {},
   "outputs": [
    {
     "data": {
      "text/plain": [
       "3"
      ]
     },
     "execution_count": 45,
     "metadata": {},
     "output_type": "execute_result"
    }
   ],
   "source": [
    "x = 2.9\n",
    "round(x)"
   ]
  },
  {
   "cell_type": "code",
   "execution_count": 46,
   "id": "bb7acd64",
   "metadata": {},
   "outputs": [
    {
     "data": {
      "text/plain": [
       "2.9"
      ]
     },
     "execution_count": 46,
     "metadata": {},
     "output_type": "execute_result"
    }
   ],
   "source": [
    "abs(-x)"
   ]
  },
  {
   "cell_type": "code",
   "execution_count": 47,
   "id": "542ab8ef",
   "metadata": {},
   "outputs": [],
   "source": [
    "import math"
   ]
  },
  {
   "cell_type": "code",
   "execution_count": 48,
   "id": "002d5e64",
   "metadata": {},
   "outputs": [
    {
     "data": {
      "text/plain": [
       "3"
      ]
     },
     "execution_count": 48,
     "metadata": {},
     "output_type": "execute_result"
    }
   ],
   "source": [
    "math.ceil(2.9)"
   ]
  },
  {
   "cell_type": "code",
   "execution_count": 49,
   "id": "96e0a42c",
   "metadata": {},
   "outputs": [
    {
     "data": {
      "text/plain": [
       "2"
      ]
     },
     "execution_count": 49,
     "metadata": {},
     "output_type": "execute_result"
    }
   ],
   "source": [
    "math.floor(2.9)"
   ]
  },
  {
   "cell_type": "code",
   "execution_count": null,
   "id": "45ce342f",
   "metadata": {},
   "outputs": [],
   "source": []
  }
 ],
 "metadata": {
  "kernelspec": {
   "display_name": "Python 3 (ipykernel)",
   "language": "python",
   "name": "python3"
  },
  "language_info": {
   "codemirror_mode": {
    "name": "ipython",
    "version": 3
   },
   "file_extension": ".py",
   "mimetype": "text/x-python",
   "name": "python",
   "nbconvert_exporter": "python",
   "pygments_lexer": "ipython3",
   "version": "3.9.6"
  }
 },
 "nbformat": 4,
 "nbformat_minor": 5
}
