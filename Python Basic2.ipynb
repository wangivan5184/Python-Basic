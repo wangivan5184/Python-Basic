{
 "cells": [
  {
   "cell_type": "markdown",
   "id": "8fd3182d",
   "metadata": {},
   "source": [
    "# If Statement"
   ]
  },
  {
   "cell_type": "code",
   "execution_count": 2,
   "id": "3df46199",
   "metadata": {},
   "outputs": [
    {
     "name": "stdout",
     "output_type": "stream",
     "text": [
      "It's a cold day\n",
      "Enjoy your day\n"
     ]
    }
   ],
   "source": [
    "is_cold = True\n",
    "\n",
    "if is_cold:\n",
    "    print(\"It's a cold day\")\n",
    "print('Enjoy your day')"
   ]
  },
  {
   "cell_type": "code",
   "execution_count": 3,
   "id": "8bc9cffc",
   "metadata": {},
   "outputs": [
    {
     "name": "stdout",
     "output_type": "stream",
     "text": [
      "Enjoy your day\n"
     ]
    }
   ],
   "source": [
    "is_cold = False\n",
    "\n",
    "if is_cold:\n",
    "    print(\"It's a cold day\")\n",
    "print('Enjoy your day')"
   ]
  },
  {
   "cell_type": "code",
   "execution_count": 4,
   "id": "de6e5c99",
   "metadata": {},
   "outputs": [
    {
     "name": "stdout",
     "output_type": "stream",
     "text": [
      "It is a hot day\n"
     ]
    }
   ],
   "source": [
    "is_cold = False\n",
    "\n",
    "if is_cold:\n",
    "    print(\"It's a cold day\")\n",
    "else:\n",
    "    print('It is a hot day')"
   ]
  },
  {
   "cell_type": "code",
   "execution_count": 5,
   "id": "763acdd5",
   "metadata": {},
   "outputs": [
    {
     "name": "stdout",
     "output_type": "stream",
     "text": [
      "It's a hot day\n"
     ]
    }
   ],
   "source": [
    "is_cold = False\n",
    "is_hot = True\n",
    "\n",
    "if is_cold:\n",
    "    print(\"It's a cold day\")\n",
    "elif is_hot:\n",
    "    print(\"It's a hot day\")\n",
    "else:\n",
    "    print('It is a lovely day')"
   ]
  },
  {
   "cell_type": "code",
   "execution_count": 6,
   "id": "ca133986",
   "metadata": {},
   "outputs": [
    {
     "name": "stdout",
     "output_type": "stream",
     "text": [
      "Down Payment: $100000.0\n"
     ]
    }
   ],
   "source": [
    "# Exercise\n",
    "house_price = 1000000\n",
    "good_credit = True\n",
    "if good_credit:\n",
    "    pd = house_price*0.1\n",
    "else:\n",
    "    pd = house_price*0.2\n",
    "print(f'Down Payment: ${pd}')"
   ]
  },
  {
   "cell_type": "markdown",
   "id": "d025f351",
   "metadata": {},
   "source": [
    "# logitic operators"
   ]
  },
  {
   "cell_type": "code",
   "execution_count": 7,
   "id": "0366b7b6",
   "metadata": {},
   "outputs": [
    {
     "name": "stdout",
     "output_type": "stream",
     "text": [
      "Eligible for loan\n"
     ]
    }
   ],
   "source": [
    "# We use operators to combine two conditions\n",
    "high_income = True\n",
    "good_credit = True\n",
    "if high_income and good_credit:\n",
    "    print('Eligible for loan')"
   ]
  },
  {
   "cell_type": "code",
   "execution_count": 8,
   "id": "5f427da4",
   "metadata": {},
   "outputs": [
    {
     "name": "stdout",
     "output_type": "stream",
     "text": [
      "Eligible for loan\n"
     ]
    }
   ],
   "source": [
    "high_income = True\n",
    "good_credit = True\n",
    "if high_income or good_credit:\n",
    "    print('Eligible for loan')"
   ]
  },
  {
   "cell_type": "code",
   "execution_count": 9,
   "id": "8b47cb2b",
   "metadata": {},
   "outputs": [
    {
     "name": "stdout",
     "output_type": "stream",
     "text": [
      "Eligible for loan\n"
     ]
    }
   ],
   "source": [
    "good_credit = True\n",
    "criminal = False\n",
    "\n",
    "if good_credit and not criminal:\n",
    "    print('Eligible for loan')"
   ]
  },
  {
   "cell_type": "markdown",
   "id": "ccae3ceb",
   "metadata": {},
   "source": [
    "# comparison operators"
   ]
  },
  {
   "cell_type": "code",
   "execution_count": 10,
   "id": "bcd12540",
   "metadata": {},
   "outputs": [
    {
     "name": "stdout",
     "output_type": "stream",
     "text": [
      "It's a hot day\n"
     ]
    }
   ],
   "source": [
    "T = 35\n",
    "if T > 30:    # comparison operator: > < >= <= == !=\n",
    "    print(\"It's a hot day\")\n",
    "else:\n",
    "    print(\"It's not a hot day\")"
   ]
  },
  {
   "cell_type": "code",
   "execution_count": 11,
   "id": "2cf21c8f",
   "metadata": {},
   "outputs": [
    {
     "name": "stdout",
     "output_type": "stream",
     "text": [
      "name looks good!\n"
     ]
    }
   ],
   "source": [
    "# Exercise\n",
    "name = 'Ivan'\n",
    "if len(name) < 3:\n",
    "    print('name must be at least characters')\n",
    "elif len(name)>50:\n",
    "    print('name can be a maximum of 50 characters')\n",
    "else:\n",
    "    print('name looks good!')"
   ]
  },
  {
   "cell_type": "code",
   "execution_count": 12,
   "id": "33141840",
   "metadata": {},
   "outputs": [
    {
     "name": "stdout",
     "output_type": "stream",
     "text": [
      "Weight: 545\n",
      "(L)bs or (K)g:k\n",
      "You are 1211.111111111111 pounds\n"
     ]
    }
   ],
   "source": [
    "# Project: Weights Converter\n",
    "weight_in = input('Weight: ')   # input function always return string\n",
    "unit_in = input('(L)bs or (K)g:' )\n",
    "if  unit_in.upper == \"L\":\n",
    "    weight_out = int(weight_in)*0.45\n",
    "    unit_out = 'kilos'\n",
    "else:\n",
    "    weight_out = int(weight_in)/0.45\n",
    "    unit_out = 'pounds'\n",
    "print(f'You are {weight_out} {unit_out}')"
   ]
  },
  {
   "cell_type": "markdown",
   "id": "e3a9a4da",
   "metadata": {},
   "source": [
    "# While Loop"
   ]
  },
  {
   "cell_type": "code",
   "execution_count": 13,
   "id": "00bedfaf",
   "metadata": {},
   "outputs": [
    {
     "name": "stdout",
     "output_type": "stream",
     "text": [
      "1\n",
      "2\n",
      "3\n",
      "4\n",
      "5\n",
      "Done\n"
     ]
    }
   ],
   "source": [
    "i = 1\n",
    "while i <=5:\n",
    "    print(i)\n",
    "    i = i+1\n",
    "print('Done')"
   ]
  },
  {
   "cell_type": "code",
   "execution_count": 14,
   "id": "3ff46212",
   "metadata": {},
   "outputs": [
    {
     "name": "stdout",
     "output_type": "stream",
     "text": [
      "*\n",
      "**\n",
      "***\n",
      "****\n",
      "*****\n",
      "Done\n"
     ]
    }
   ],
   "source": [
    "i = 1\n",
    "while i <=5:\n",
    "    print('*'*i)\n",
    "    i = i+1\n",
    "print('Done')"
   ]
  },
  {
   "cell_type": "markdown",
   "id": "6c4af7a2",
   "metadata": {},
   "source": [
    "# Guessing Game"
   ]
  },
  {
   "cell_type": "code",
   "execution_count": 15,
   "id": "b8f13997",
   "metadata": {},
   "outputs": [
    {
     "name": "stdout",
     "output_type": "stream",
     "text": [
      "Guess: 1\n",
      "Guess: 2\n",
      "Guess: 3\n",
      "Sorry, you failed\n"
     ]
    }
   ],
   "source": [
    "answer = 9\n",
    "count = 0\n",
    "limit = 3\n",
    "while count < limit:\n",
    "    guess = int(input('Guess: '))\n",
    "    count += 1\n",
    "    if guess == answer:\n",
    "        print('You won')\n",
    "        break\n",
    "else:\n",
    "    print('Sorry, you failed')\n",
    "    "
   ]
  },
  {
   "cell_type": "code",
   "execution_count": 47,
   "id": "45ae115f",
   "metadata": {},
   "outputs": [
    {
     "name": "stdout",
     "output_type": "stream",
     "text": [
      "> start\n",
      "Car started...Ready to go!\n",
      "> start\n",
      "Car already started!\n",
      "> quit\n"
     ]
    }
   ],
   "source": [
    "# A game for simulation for a card game. To build an engine for a game\n",
    "\n",
    "command = \"\"\n",
    "started = False\n",
    "stopped = False\n",
    "count_stop = 0\n",
    "while True:\n",
    "    command = input('> ').upper()\n",
    "    \n",
    "    \n",
    "    if command == 'HELP':\n",
    "        print('''\n",
    "start - to start the car\n",
    "stop - to stop the car\n",
    "quit - to exit\n",
    "                ''')\n",
    "    elif command == 'START':\n",
    "        if not started:\n",
    "            print('Car started...Ready to go!')\n",
    "            started = True\n",
    "        else:\n",
    "            print('Car already started!')\n",
    "           \n",
    "    elif command == 'STOP':\n",
    "        \n",
    "        if not stopped:\n",
    "            print('Car Stopped')\n",
    "            stopped = True\n",
    "        else: \n",
    "            \n",
    "            print('Car already stopped')\n",
    "        car_stop +=1\n",
    "    elif command == 'QUIT':\n",
    "        break\n",
    "    else:\n",
    "        print(\"I don't understand that ...\")\n",
    "    \n",
    "\n",
    "    "
   ]
  },
  {
   "cell_type": "markdown",
   "id": "b5e00cf6",
   "metadata": {},
   "source": [
    "# For Loops"
   ]
  },
  {
   "cell_type": "code",
   "execution_count": 48,
   "id": "488011b4",
   "metadata": {},
   "outputs": [
    {
     "name": "stdout",
     "output_type": "stream",
     "text": [
      "P\n",
      "y\n",
      "t\n",
      "h\n",
      "o\n",
      "n\n"
     ]
    }
   ],
   "source": [
    "for item in 'Python':\n",
    "    print(item)"
   ]
  },
  {
   "cell_type": "code",
   "execution_count": 49,
   "id": "66883b51",
   "metadata": {},
   "outputs": [
    {
     "name": "stdout",
     "output_type": "stream",
     "text": [
      "Ivan\n",
      "Wang\n",
      "CSU\n"
     ]
    }
   ],
   "source": [
    "for item in ['Ivan','Wang','CSU']:\n",
    "    print(item)\n"
   ]
  },
  {
   "cell_type": "code",
   "execution_count": 50,
   "id": "cdd2b546",
   "metadata": {},
   "outputs": [
    {
     "name": "stdout",
     "output_type": "stream",
     "text": [
      "1\n",
      "2\n",
      "3\n",
      "4\n"
     ]
    }
   ],
   "source": [
    "for item in [1,2,3,4]:\n",
    "    print(item)"
   ]
  },
  {
   "cell_type": "code",
   "execution_count": 51,
   "id": "9a6b4d37",
   "metadata": {},
   "outputs": [
    {
     "name": "stdout",
     "output_type": "stream",
     "text": [
      "0\n",
      "1\n",
      "2\n",
      "3\n",
      "4\n",
      "5\n",
      "6\n",
      "7\n",
      "8\n",
      "9\n"
     ]
    }
   ],
   "source": [
    "for item in range(10) :\n",
    "    print(item) #10 is not included"
   ]
  },
  {
   "cell_type": "code",
   "execution_count": 52,
   "id": "4a379595",
   "metadata": {},
   "outputs": [
    {
     "name": "stdout",
     "output_type": "stream",
     "text": [
      "5\n",
      "6\n",
      "7\n",
      "8\n",
      "9\n"
     ]
    }
   ],
   "source": [
    "for item in range(5,10):\n",
    "    print(item)"
   ]
  },
  {
   "cell_type": "code",
   "execution_count": 53,
   "id": "edacdc88",
   "metadata": {},
   "outputs": [
    {
     "name": "stdout",
     "output_type": "stream",
     "text": [
      "60\n"
     ]
    }
   ],
   "source": [
    "prices = [10,20,30]\n",
    "sum = 0\n",
    "for item in prices:\n",
    "    sum = sum + item\n",
    "print(sum)"
   ]
  },
  {
   "cell_type": "markdown",
   "id": "1fdb5573",
   "metadata": {},
   "source": [
    "# Nested Loop"
   ]
  },
  {
   "cell_type": "code",
   "execution_count": 59,
   "id": "4ad04ccf",
   "metadata": {},
   "outputs": [
    {
     "name": "stdout",
     "output_type": "stream",
     "text": [
      "(0,0)\n",
      "(0,1)\n",
      "(0,2)\n",
      "(1,0)\n",
      "(1,1)\n",
      "(1,2)\n",
      "(2,0)\n",
      "(2,1)\n",
      "(2,2)\n",
      "(3,0)\n",
      "(3,1)\n",
      "(3,2)\n"
     ]
    }
   ],
   "source": [
    "# Using a nested loop means adding one loop inside of another loop\n",
    "for x in range(4):\n",
    "    for y in range(3):\n",
    "        print(f'({x},{y})')"
   ]
  },
  {
   "cell_type": "code",
   "execution_count": 60,
   "id": "0adba195",
   "metadata": {},
   "outputs": [
    {
     "name": "stdout",
     "output_type": "stream",
     "text": [
      "xxxxx\n",
      "xx\n",
      "xxxxx\n",
      "xx\n",
      "xx\n"
     ]
    }
   ],
   "source": [
    "# Exercise\n",
    "numbers = [5,2,5,2,2]\n",
    "for item in numbers:\n",
    "    print('x'*item)"
   ]
  },
  {
   "cell_type": "code",
   "execution_count": 62,
   "id": "9a8eca74",
   "metadata": {},
   "outputs": [
    {
     "name": "stdout",
     "output_type": "stream",
     "text": [
      "xxxxx\n",
      "xx\n",
      "xxxxx\n",
      "xx\n",
      "xx\n"
     ]
    }
   ],
   "source": [
    "for item in numbers:\n",
    "    output = ''\n",
    "    for item in range(item):\n",
    "        output += 'x'\n",
    "    print(output)"
   ]
  },
  {
   "cell_type": "code",
   "execution_count": null,
   "id": "bd0171c4",
   "metadata": {},
   "outputs": [],
   "source": []
  }
 ],
 "metadata": {
  "kernelspec": {
   "display_name": "Python 3 (ipykernel)",
   "language": "python",
   "name": "python3"
  },
  "language_info": {
   "codemirror_mode": {
    "name": "ipython",
    "version": 3
   },
   "file_extension": ".py",
   "mimetype": "text/x-python",
   "name": "python",
   "nbconvert_exporter": "python",
   "pygments_lexer": "ipython3",
   "version": "3.9.6"
  }
 },
 "nbformat": 4,
 "nbformat_minor": 5
}
