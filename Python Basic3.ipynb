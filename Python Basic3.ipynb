{
 "cells": [
  {
   "cell_type": "markdown",
   "id": "bf1f66da",
   "metadata": {},
   "source": [
    "# List"
   ]
  },
  {
   "cell_type": "code",
   "execution_count": 2,
   "id": "89672b8c",
   "metadata": {},
   "outputs": [
    {
     "name": "stdout",
     "output_type": "stream",
     "text": [
      "['John', 'Bob', 'Sarah', 'Mary']\n"
     ]
    }
   ],
   "source": [
    "names = ['John','Bob','Mosh','Sarah','Mary']\n",
    "print(names)"
   ]
  },
  {
   "cell_type": "code",
   "execution_count": 3,
   "id": "0c4895d0",
   "metadata": {},
   "outputs": [
    {
     "name": "stdout",
     "output_type": "stream",
     "text": [
      "John\n"
     ]
    }
   ],
   "source": [
    "print(names[0])"
   ]
  },
  {
   "cell_type": "code",
   "execution_count": 4,
   "id": "c982d508",
   "metadata": {},
   "outputs": [
    {
     "name": "stdout",
     "output_type": "stream",
     "text": [
      "Mary\n"
     ]
    }
   ],
   "source": [
    "print(names[-1])"
   ]
  },
  {
   "cell_type": "code",
   "execution_count": 5,
   "id": "16514bd5",
   "metadata": {},
   "outputs": [
    {
     "name": "stdout",
     "output_type": "stream",
     "text": [
      "['Sarah', 'Mary']\n"
     ]
    }
   ],
   "source": [
    "print(names[2:4])"
   ]
  },
  {
   "cell_type": "code",
   "execution_count": 6,
   "id": "1b9752b9",
   "metadata": {},
   "outputs": [
    {
     "name": "stdout",
     "output_type": "stream",
     "text": [
      "['Sarah', 'Mary']\n"
     ]
    }
   ],
   "source": [
    "print(names[2:])"
   ]
  },
  {
   "cell_type": "code",
   "execution_count": 8,
   "id": "59bb6b1c",
   "metadata": {},
   "outputs": [
    {
     "name": "stdout",
     "output_type": "stream",
     "text": [
      "['Joh', 'Bob', 'Sarah', 'Mary']\n"
     ]
    }
   ],
   "source": [
    "names[0] = 'Joh'\n",
    "print(names)"
   ]
  },
  {
   "cell_type": "code",
   "execution_count": 11,
   "id": "63eef8bc",
   "metadata": {},
   "outputs": [
    {
     "name": "stdout",
     "output_type": "stream",
     "text": [
      "100\n"
     ]
    }
   ],
   "source": [
    "# Write a program to find the largest number in a list\n",
    "numbers = [3,6,32,8,4,100]\n",
    "max = numbers[0]\n",
    "for i in range(len(numbers)):\n",
    "    if numbers[i] > max:\n",
    "        max = numbers[i]\n",
    "print(max)"
   ]
  },
  {
   "cell_type": "code",
   "execution_count": 13,
   "id": "7706bec3",
   "metadata": {},
   "outputs": [
    {
     "name": "stdout",
     "output_type": "stream",
     "text": [
      "10\n"
     ]
    }
   ],
   "source": [
    "numbers = [3,6,2,10,8]\n",
    "max = numbers[0]\n",
    "for number in numbers:\n",
    "    if number > max:\n",
    "        max = number\n",
    "print(max)"
   ]
  },
  {
   "cell_type": "markdown",
   "id": "9748347f",
   "metadata": {},
   "source": [
    "# 2D Lists"
   ]
  },
  {
   "cell_type": "code",
   "execution_count": 15,
   "id": "6d7539a8",
   "metadata": {},
   "outputs": [
    {
     "data": {
      "text/plain": [
       "2"
      ]
     },
     "execution_count": 15,
     "metadata": {},
     "output_type": "execute_result"
    }
   ],
   "source": [
    "# Two dimensional lists are extremely powerfully and they have a lot\n",
    "# applications in data science and machine learning.\n",
    "matrix = [\n",
    "    [1,2,3],\n",
    "    [4,5,6],\n",
    "    [7,8,9]\n",
    "]\n",
    "matrix[0][1]"
   ]
  },
  {
   "cell_type": "code",
   "execution_count": 17,
   "id": "4ef0ae28",
   "metadata": {},
   "outputs": [
    {
     "name": "stdout",
     "output_type": "stream",
     "text": [
      "1\n",
      "2\n",
      "3\n",
      "4\n",
      "5\n",
      "6\n",
      "7\n",
      "8\n",
      "9\n"
     ]
    }
   ],
   "source": [
    "for row in matrix:\n",
    "    for item in row:\n",
    "        print(item)"
   ]
  },
  {
   "cell_type": "markdown",
   "id": "8af90f45",
   "metadata": {},
   "source": [
    "# List Methods"
   ]
  },
  {
   "cell_type": "code",
   "execution_count": 18,
   "id": "b6e2cdb9",
   "metadata": {},
   "outputs": [
    {
     "data": {
      "text/plain": [
       "[5, 2, 1, 7, 4, 20]"
      ]
     },
     "execution_count": 18,
     "metadata": {},
     "output_type": "execute_result"
    }
   ],
   "source": [
    "numbers = [5,2,1,7,4]\n",
    "numbers.append(20)\n",
    "numbers"
   ]
  },
  {
   "cell_type": "code",
   "execution_count": 19,
   "id": "8f19aa5a",
   "metadata": {},
   "outputs": [
    {
     "data": {
      "text/plain": [
       "[10, 5, 2, 1, 7, 4, 20]"
      ]
     },
     "execution_count": 19,
     "metadata": {},
     "output_type": "execute_result"
    }
   ],
   "source": [
    "numbers.insert(0,10)\n",
    "numbers"
   ]
  },
  {
   "cell_type": "code",
   "execution_count": 20,
   "id": "9cbde4f6",
   "metadata": {},
   "outputs": [
    {
     "data": {
      "text/plain": [
       "[10, 5, 2, 7, 4, 20]"
      ]
     },
     "execution_count": 20,
     "metadata": {},
     "output_type": "execute_result"
    }
   ],
   "source": [
    "numbers.remove(1)\n",
    "numbers"
   ]
  },
  {
   "cell_type": "code",
   "execution_count": 22,
   "id": "63339e50",
   "metadata": {},
   "outputs": [
    {
     "data": {
      "text/plain": [
       "[]"
      ]
     },
     "execution_count": 22,
     "metadata": {},
     "output_type": "execute_result"
    }
   ],
   "source": [
    "numbers.clear()\n",
    "numbers"
   ]
  },
  {
   "cell_type": "code",
   "execution_count": 24,
   "id": "74241328",
   "metadata": {},
   "outputs": [
    {
     "data": {
      "text/plain": [
       "[5, 2, 1, 7]"
      ]
     },
     "execution_count": 24,
     "metadata": {},
     "output_type": "execute_result"
    }
   ],
   "source": [
    "numbers = [5,2,1,7,4]\n",
    "numbers.pop()\n",
    "numbers"
   ]
  },
  {
   "cell_type": "code",
   "execution_count": 25,
   "id": "71fe8fc2",
   "metadata": {},
   "outputs": [
    {
     "data": {
      "text/plain": [
       "0"
      ]
     },
     "execution_count": 25,
     "metadata": {},
     "output_type": "execute_result"
    }
   ],
   "source": [
    "numbers.index(5)"
   ]
  },
  {
   "cell_type": "code",
   "execution_count": 27,
   "id": "b2d3188f",
   "metadata": {},
   "outputs": [
    {
     "data": {
      "text/plain": [
       "2"
      ]
     },
     "execution_count": 27,
     "metadata": {},
     "output_type": "execute_result"
    }
   ],
   "source": [
    "numbers.index(1)"
   ]
  },
  {
   "cell_type": "code",
   "execution_count": 28,
   "id": "f41712b9",
   "metadata": {},
   "outputs": [
    {
     "data": {
      "text/plain": [
       "True"
      ]
     },
     "execution_count": 28,
     "metadata": {},
     "output_type": "execute_result"
    }
   ],
   "source": [
    "7 in numbers"
   ]
  },
  {
   "cell_type": "code",
   "execution_count": 29,
   "id": "ced68cba",
   "metadata": {},
   "outputs": [
    {
     "data": {
      "text/plain": [
       "2"
      ]
     },
     "execution_count": 29,
     "metadata": {},
     "output_type": "execute_result"
    }
   ],
   "source": [
    "numbers = [5,2,1,5,7,4]\n",
    "numbers.count(5)"
   ]
  },
  {
   "cell_type": "code",
   "execution_count": 30,
   "id": "1eabd87a",
   "metadata": {},
   "outputs": [
    {
     "data": {
      "text/plain": [
       "[1, 2, 4, 5, 5, 7]"
      ]
     },
     "execution_count": 30,
     "metadata": {},
     "output_type": "execute_result"
    }
   ],
   "source": [
    "numbers.sort()\n",
    "numbers"
   ]
  },
  {
   "cell_type": "code",
   "execution_count": 33,
   "id": "f00350a0",
   "metadata": {},
   "outputs": [
    {
     "data": {
      "text/plain": [
       "[7, 5, 5, 4, 2, 1]"
      ]
     },
     "execution_count": 33,
     "metadata": {},
     "output_type": "execute_result"
    }
   ],
   "source": [
    "numbers.reverse()\n",
    "numbers\n"
   ]
  },
  {
   "cell_type": "code",
   "execution_count": 35,
   "id": "904f0b67",
   "metadata": {},
   "outputs": [
    {
     "data": {
      "text/plain": [
       "[7, 5, 5, 4, 2, 1]"
      ]
     },
     "execution_count": 35,
     "metadata": {},
     "output_type": "execute_result"
    }
   ],
   "source": [
    "numbers2 = numbers.copy()\n",
    "numbers.append(10)\n",
    "numbers2 # numbers2 and number2 are two indenpend lists"
   ]
  },
  {
   "cell_type": "code",
   "execution_count": 38,
   "id": "46310556",
   "metadata": {},
   "outputs": [
    {
     "name": "stdout",
     "output_type": "stream",
     "text": [
      "[1, 2, 4, 5, 7]\n"
     ]
    }
   ],
   "source": [
    "# Exercise: Write a program to remove the duplicates in a list\n",
    "numbers = [1, 2, 4, 5, 5, 7]\n",
    "uniques = [] \n",
    "for item in numbers:\n",
    "    if item not in uniques:\n",
    "        uniques.append(item)\n",
    "print(uniques)\n",
    "    "
   ]
  },
  {
   "cell_type": "markdown",
   "id": "b2d9294f",
   "metadata": {},
   "source": [
    "# Tuples"
   ]
  },
  {
   "cell_type": "code",
   "execution_count": 39,
   "id": "a12b1251",
   "metadata": {},
   "outputs": [
    {
     "data": {
      "text/plain": [
       "1"
      ]
     },
     "execution_count": 39,
     "metadata": {},
     "output_type": "execute_result"
    }
   ],
   "source": [
    "# Tuples are similar to lists, we can use them to store a list of items. \n",
    "# But unlike lists we can not modify them, add new items, remove existing items.\n",
    "# We say tuples are immutable. We cannot mutate or change them.\n",
    "numbers = (1,2,3)\n",
    "numbers.count(1)"
   ]
  },
  {
   "cell_type": "code",
   "execution_count": 40,
   "id": "fb49429e",
   "metadata": {},
   "outputs": [
    {
     "data": {
      "text/plain": [
       "1"
      ]
     },
     "execution_count": 40,
     "metadata": {},
     "output_type": "execute_result"
    }
   ],
   "source": [
    "numbers.index(2)"
   ]
  },
  {
   "cell_type": "code",
   "execution_count": 41,
   "id": "90e9757a",
   "metadata": {},
   "outputs": [
    {
     "data": {
      "text/plain": [
       "1"
      ]
     },
     "execution_count": 41,
     "metadata": {},
     "output_type": "execute_result"
    }
   ],
   "source": [
    "numbers[0]"
   ]
  },
  {
   "cell_type": "code",
   "execution_count": 42,
   "id": "8c37ac49",
   "metadata": {},
   "outputs": [
    {
     "ename": "TypeError",
     "evalue": "'tuple' object does not support item assignment",
     "output_type": "error",
     "traceback": [
      "\u001b[1;31m---------------------------------------------------------------------------\u001b[0m",
      "\u001b[1;31mTypeError\u001b[0m                                 Traceback (most recent call last)",
      "\u001b[1;32m~\\AppData\\Local\\Temp/ipykernel_29300/201822147.py\u001b[0m in \u001b[0;36m<module>\u001b[1;34m\u001b[0m\n\u001b[1;32m----> 1\u001b[1;33m \u001b[0mnumbers\u001b[0m\u001b[1;33m[\u001b[0m\u001b[1;36m0\u001b[0m\u001b[1;33m]\u001b[0m\u001b[1;33m=\u001b[0m\u001b[1;36m10\u001b[0m\u001b[1;33m\u001b[0m\u001b[1;33m\u001b[0m\u001b[0m\n\u001b[0m\u001b[0;32m      2\u001b[0m \u001b[0mnumbers\u001b[0m\u001b[1;33m\u001b[0m\u001b[1;33m\u001b[0m\u001b[0m\n",
      "\u001b[1;31mTypeError\u001b[0m: 'tuple' object does not support item assignment"
     ]
    }
   ],
   "source": [
    "numbers[0]=10 # this is wrong in tuple\n",
    "numbers"
   ]
  },
  {
   "cell_type": "code",
   "execution_count": null,
   "id": "67586c73",
   "metadata": {},
   "outputs": [],
   "source": [
    "# Practically speaking, most of the time you'll be using lists,\n",
    "# but tuples are also useful. If you want to create a list of items\n",
    "# and make sure that no where in your program you accidentally modify that list,\n",
    "# then it's better to use a tuple."
   ]
  },
  {
   "cell_type": "markdown",
   "id": "b6e7f630",
   "metadata": {},
   "source": [
    "# Unpacking"
   ]
  },
  {
   "cell_type": "code",
   "execution_count": 43,
   "id": "d75c3b03",
   "metadata": {},
   "outputs": [
    {
     "data": {
      "text/plain": [
       "2"
      ]
     },
     "execution_count": 43,
     "metadata": {},
     "output_type": "execute_result"
    }
   ],
   "source": [
    "# A powerful feature in python: Unpacking\n",
    "coordinates = (1,2,3)\n",
    "x,y,z = coordinates\n",
    "y"
   ]
  },
  {
   "cell_type": "code",
   "execution_count": 44,
   "id": "7c4c68d5",
   "metadata": {},
   "outputs": [
    {
     "data": {
      "text/plain": [
       "2"
      ]
     },
     "execution_count": 44,
     "metadata": {},
     "output_type": "execute_result"
    }
   ],
   "source": [
    "# unpacking also works on list\n",
    "coordinats = [1,2,3]\n",
    "x,y,z = coordinates\n",
    "y"
   ]
  },
  {
   "cell_type": "markdown",
   "id": "d75f2735",
   "metadata": {},
   "source": [
    "# Dictionaries\n"
   ]
  },
  {
   "cell_type": "code",
   "execution_count": 45,
   "id": "fcefcd40",
   "metadata": {},
   "outputs": [
    {
     "data": {
      "text/plain": [
       "'Ivan Wang'"
      ]
     },
     "execution_count": 45,
     "metadata": {},
     "output_type": "execute_result"
    }
   ],
   "source": [
    "# We use dictionaries in situations where we want to store information\n",
    "# that comes as key value pairs\n",
    "customers ={\n",
    "    \"name\":\"Ivan Wang\",\n",
    "    \"age\":30,\n",
    "    \"is_verified\":True\n",
    "}\n",
    "# We can access each item in this dictionary using square customers\n",
    "customers[\"name\"]"
   ]
  },
  {
   "cell_type": "code",
   "execution_count": 46,
   "id": "3cd33597",
   "metadata": {},
   "outputs": [
    {
     "ename": "KeyError",
     "evalue": "'birthday'",
     "output_type": "error",
     "traceback": [
      "\u001b[1;31m---------------------------------------------------------------------------\u001b[0m",
      "\u001b[1;31mKeyError\u001b[0m                                  Traceback (most recent call last)",
      "\u001b[1;32m~\\AppData\\Local\\Temp/ipykernel_29300/1691487792.py\u001b[0m in \u001b[0;36m<module>\u001b[1;34m\u001b[0m\n\u001b[1;32m----> 1\u001b[1;33m \u001b[0mcustomers\u001b[0m\u001b[1;33m[\u001b[0m\u001b[1;34m\"birthday\"\u001b[0m\u001b[1;33m]\u001b[0m\u001b[1;33m\u001b[0m\u001b[1;33m\u001b[0m\u001b[0m\n\u001b[0m",
      "\u001b[1;31mKeyError\u001b[0m: 'birthday'"
     ]
    }
   ],
   "source": [
    "customers[\"birthday\"]"
   ]
  },
  {
   "cell_type": "code",
   "execution_count": 49,
   "id": "855fd24d",
   "metadata": {},
   "outputs": [
    {
     "data": {
      "text/plain": [
       "'Ivan Wang'"
      ]
     },
     "execution_count": 49,
     "metadata": {},
     "output_type": "execute_result"
    }
   ],
   "source": [
    "customers.get(\"name\")  #use get method instead of []"
   ]
  },
  {
   "cell_type": "code",
   "execution_count": 52,
   "id": "7bb60dd7",
   "metadata": {},
   "outputs": [
    {
     "name": "stdout",
     "output_type": "stream",
     "text": [
      "None\n"
     ]
    }
   ],
   "source": [
    "print(customers.get(\"birthday\"))"
   ]
  },
  {
   "cell_type": "code",
   "execution_count": 53,
   "id": "590c184b",
   "metadata": {},
   "outputs": [
    {
     "data": {
      "text/plain": [
       "'Jack Smith'"
      ]
     },
     "execution_count": 53,
     "metadata": {},
     "output_type": "execute_result"
    }
   ],
   "source": [
    "customers[\"name\"] = \"Jack Smith\"\n",
    "customers[\"name\"]"
   ]
  },
  {
   "cell_type": "code",
   "execution_count": 54,
   "id": "4edbbcf0",
   "metadata": {},
   "outputs": [
    {
     "data": {
      "text/plain": [
       "'Jan 1 1980'"
      ]
     },
     "execution_count": 54,
     "metadata": {},
     "output_type": "execute_result"
    }
   ],
   "source": [
    "customers[\"birthday\"] = \"Jan 1 1980\"\n",
    "customers[\"birthday\"]"
   ]
  },
  {
   "cell_type": "code",
   "execution_count": 60,
   "id": "e042019a",
   "metadata": {},
   "outputs": [
    {
     "name": "stdout",
     "output_type": "stream",
     "text": [
      "Phone: 9708229012\n",
      "Nine Seven Zero Eight Two Two Nine Zero One Two \n"
     ]
    }
   ],
   "source": [
    "# Exercise\n",
    "# We need to look through this string, get each character and translate\n",
    "# it to a word, we need to implement this scenario is a dictionary.\n",
    "# becasue a dictionary is a structure that allows us to map a key to a value.\n",
    "# So we can have a dictionary with keys like 1234... And we map each of these\n",
    "# keys to a word.\n",
    "phone = input('Phone: ')\n",
    "output=\"\"\n",
    "digits_mapping = {\n",
    "    \"0\":\"Zero\",\n",
    "    \"1\":\"One\",\n",
    "    \"2\":\"Two\",\n",
    "    \"3\":\"Three\",\n",
    "    \"4\":\"Four\",\n",
    "    \"5\":\"Five\",\n",
    "    \"6\":\"Six\",\n",
    "    \"7\":\"Seven\",\n",
    "    \"8\":\"Eight\",\n",
    "    \"9\":\"Nine\"\n",
    "}\n",
    "output=\"\"\n",
    "# We get each character in phone,use it to access a key value pair in dictionary \n",
    "for ch in phone: \n",
    "    # We use the get method here, in case the user enters some characters that\n",
    "    # is not part of dictionary, our program is not going to yell at them. \n",
    "    # If we don't have this key, we can supply a default value like exclaimation \n",
    "    # mark, so with this we can get a word.\n",
    "    output += digits_mapping.get(ch,\"!\") + \" \"\n",
    "print(output)"
   ]
  },
  {
   "cell_type": "markdown",
   "id": "a62fc9bb",
   "metadata": {},
   "source": [
    "# Emoji Converter"
   ]
  },
  {
   "cell_type": "code",
   "execution_count": 64,
   "id": "93a1ac81",
   "metadata": {},
   "outputs": [
    {
     "name": "stdout",
     "output_type": "stream",
     "text": [
      ">good morning @\n",
      "['good', 'morning', '@']\n",
      "good morning @ \n"
     ]
    }
   ],
   "source": [
    "message=input(\">\")\n",
    "# We need to split this string by a space, so if the user tyoes good morning\n",
    "# with a smile face, we want to break this down into 3 words: \"good\",\"morning\",\n",
    "# \"smile face\". To do that we call the split method.\n",
    "\n",
    "# We call message.split and pass a string with one space as a separator. \n",
    "# This method bascially goes through this string and anywhere it finds this\n",
    "# character in this case a space, it uses it as a boundary to separate this string\n",
    "# into multiple words. And then it will return a list.\n",
    "words = message.split(' ')\n",
    "print(words)\n",
    "# We need to define a dictionary for mapping special characters\n",
    "emojis = {\n",
    "    \":)\":\"smile\",\n",
    "    \":(\":\"sad\"\n",
    "}\n",
    "output = \"\"\n",
    "for word in words:\n",
    "    output += emojis.get(word,word) + \" \"\n",
    "    \n",
    "print(output)"
   ]
  },
  {
   "cell_type": "markdown",
   "id": "394ba4cd",
   "metadata": {},
   "source": [
    "# Functions"
   ]
  },
  {
   "cell_type": "code",
   "execution_count": 66,
   "id": "db3ad428",
   "metadata": {},
   "outputs": [
    {
     "name": "stdout",
     "output_type": "stream",
     "text": [
      "Start\n",
      "Hi there!\n",
      "Welcome aboard\n",
      "Finish\n"
     ]
    }
   ],
   "source": [
    "# We should name our functions with lower case characters\n",
    "# if there are multiple words, we need to separate them using undersorce\n",
    "# you should always,always,always use menaningful descriptive names for your \n",
    "# functions.\n",
    "def greet_user():\n",
    "    print('Hi there!')\n",
    "    print('Welcome aboard')\n",
    "print(\"Start\")\n",
    "greet_user()\n",
    "print(\"Finish\")"
   ]
  },
  {
   "cell_type": "markdown",
   "id": "94f8a55e",
   "metadata": {},
   "source": [
    "# Parameters"
   ]
  },
  {
   "cell_type": "code",
   "execution_count": 68,
   "id": "eaf8834b",
   "metadata": {},
   "outputs": [
    {
     "name": "stdout",
     "output_type": "stream",
     "text": [
      "Start\n",
      "Hi Ivan!\n",
      "Welcome aboard\n",
      "Hi Ryan!\n",
      "Welcome aboard\n",
      "Finish\n"
     ]
    }
   ],
   "source": [
    "# How to pass information to our functions\n",
    "# These parameters are pale holders for receiving information\n",
    "def greet_user(name):\n",
    "    print(f'Hi {name}!')\n",
    "    print('Welcome aboard')\n",
    "print(\"Start\")\n",
    "greet_user(\"Ivan\") \n",
    "# Arguments are the actual pieces of information that w supply to these functions.\n",
    "greet_user(\"Ryan\")\n",
    "print(\"Finish\")"
   ]
  },
  {
   "cell_type": "code",
   "execution_count": 69,
   "id": "29acccd7",
   "metadata": {},
   "outputs": [
    {
     "name": "stdout",
     "output_type": "stream",
     "text": [
      "Start\n",
      "Hi Ivan Wang!\n",
      "Welcome aboard\n",
      "Finish\n"
     ]
    }
   ],
   "source": [
    "\n",
    "def greet_user(first_name,last_name):\n",
    "    print(f'Hi {first_name} {last_name}!')\n",
    "    print('Welcome aboard')\n",
    "print(\"Start\")\n",
    "greet_user(\"Ivan\",\"Wang\") \n",
    "\n",
    "print(\"Finish\")"
   ]
  },
  {
   "cell_type": "markdown",
   "id": "d195c23e",
   "metadata": {},
   "source": [
    "# Keyword Arguments"
   ]
  },
  {
   "cell_type": "code",
   "execution_count": 72,
   "id": "2dac15e4",
   "metadata": {},
   "outputs": [
    {
     "name": "stdout",
     "output_type": "stream",
     "text": [
      "Start\n",
      "Hi Ivan Wang!\n",
      "Welcome aboard\n",
      "Hi Yan Wang!\n",
      "Welcome aboard\n",
      "Finish\n"
     ]
    }
   ],
   "source": [
    "# In Python, we also have keyword arguments, and with those the position\n",
    "# doesn't matter\n",
    "def greet_user(first_name,last_name):\n",
    "    print(f'Hi {first_name} {last_name}!')\n",
    "    print('Welcome aboard')\n",
    "print(\"Start\")\n",
    "greet_user(last_name=\"Wang\",first_name=\"Ivan\") \n",
    "greet_user(\"Yan\",last_name=\"Wang\") # Use keyword argumenta after the positional arguments\n",
    "print(\"Finish\")"
   ]
  },
  {
   "cell_type": "markdown",
   "id": "af9de0a2",
   "metadata": {},
   "source": [
    "# Return Statements"
   ]
  },
  {
   "cell_type": "code",
   "execution_count": 73,
   "id": "8017ab92",
   "metadata": {},
   "outputs": [
    {
     "data": {
      "text/plain": [
       "9"
      ]
     },
     "execution_count": 73,
     "metadata": {},
     "output_type": "execute_result"
    }
   ],
   "source": [
    "# How to create functions that return value, this is partically useful\n",
    "# if you are doing some kinds of calculations and you want to return the result\n",
    "# to whoever is using your function.\n",
    "def square (number):\n",
    "    return number ** 2\n",
    "\n",
    "result = square(3)\n",
    "result"
   ]
  },
  {
   "cell_type": "markdown",
   "id": "aea00c10",
   "metadata": {},
   "source": [
    "# Creating a  Reusable Function"
   ]
  },
  {
   "cell_type": "code",
   "execution_count": 77,
   "id": "0ad47feb",
   "metadata": {},
   "outputs": [
    {
     "name": "stdout",
     "output_type": "stream",
     "text": [
      ">good morning :)\n",
      "good morning smile \n"
     ]
    }
   ],
   "source": [
    "def emoji_converter(message):\n",
    "    words = message.split(' ') \n",
    "    emojis = {\n",
    "        \":)\":\"smile\",\n",
    "        \":(\":\"sad\"\n",
    "    }\n",
    "    output = \"\"\n",
    "    for word in words:\n",
    "        output += emojis.get(word,word) + \" \"\n",
    "    return output\n",
    "message = input(\">\")\n",
    "print(emoji_converter(message))"
   ]
  },
  {
   "cell_type": "markdown",
   "id": "4a908b8b",
   "metadata": {},
   "source": [
    "# Exceptions"
   ]
  },
  {
   "cell_type": "code",
   "execution_count": 82,
   "id": "2a341b04",
   "metadata": {},
   "outputs": [
    {
     "name": "stdout",
     "output_type": "stream",
     "text": [
      "Age: 0\n",
      "Age cannot be 0.\n"
     ]
    }
   ],
   "source": [
    "# How to handle errors in python programe\n",
    "try:\n",
    "    age = int(input('Age: '))\n",
    "    income = 20000\n",
    "    risk = income/age\n",
    "    print(age)\n",
    "except ZeroDivisionError:\n",
    "    print('Age cannot be 0.') \n",
    "except ValueError:\n",
    "    print('Invalid value')\n",
    "# In Python,we have a construct called try accept we use that to handle errors.\n",
    "#"
   ]
  },
  {
   "cell_type": "markdown",
   "id": "4a353f63",
   "metadata": {},
   "source": [
    "# Comments"
   ]
  },
  {
   "cell_type": "code",
   "execution_count": null,
   "id": "c22246e9",
   "metadata": {},
   "outputs": [],
   "source": [
    "# Add notes"
   ]
  },
  {
   "cell_type": "code",
   "execution_count": null,
   "id": "3f610d3e",
   "metadata": {},
   "outputs": [],
   "source": []
  }
 ],
 "metadata": {
  "kernelspec": {
   "display_name": "Python 3 (ipykernel)",
   "language": "python",
   "name": "python3"
  },
  "language_info": {
   "codemirror_mode": {
    "name": "ipython",
    "version": 3
   },
   "file_extension": ".py",
   "mimetype": "text/x-python",
   "name": "python",
   "nbconvert_exporter": "python",
   "pygments_lexer": "ipython3",
   "version": "3.9.6"
  }
 },
 "nbformat": 4,
 "nbformat_minor": 5
}
